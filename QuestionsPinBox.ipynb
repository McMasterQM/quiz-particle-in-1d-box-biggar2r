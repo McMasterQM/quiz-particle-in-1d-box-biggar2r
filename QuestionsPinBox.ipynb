{
 "cells": [
  {
   "cell_type": "markdown",
   "metadata": {
    "id": "4lh9TTWhzbd2"
   },
   "source": [
    "# Particle-in-a-Box\n",
    "\n",
    "## &#x1f468;&#x200d;&#x1f3eb; Purpose\n",
    "This contains questions about the simplest quantum system, one particle in a one-dimensional box with infinite sides.\n",
    "\n",
    "1. &#x1f3b2; Multiple-Choice Questions. (One or more answers, separated by spaces or commas.)\n",
    "2. &#x1fa99; True/False Questions. (Write True/False.)\n",
    "3. &#x1F5A9; Numerical answers requiring some calculation. (Write the numerical answer in the requested units; significant figures are not checked.)\n",
    "4. &#x1f9ee; Numerical answers requiring minimal calculation or counting. (Write the answer as a number.)\n",
    "4. &#x1f500; Matching Questions. (Write pairs sequentially.)\n",
    "\n",
    "> **Notes:**\n",
    ">- You can upload files to show your mathematical work; you can also type mathematics using Markdown.\n",
    ">- You can use the notebook as a calculator for numerical problems; but you can also just type in your answer computed offline.\n",
    ">- You may find these [sheets containing reference data and mathematical formulas/identities](https://github.com/QC-Edu/IntroQM2022/blob/master/documents/ReferenceConstantsConversionsMath.pdf) useful.\n",
    "\n",
    "\n",
    "-----\n",
    "## &#x1f4dc; Instructions\n",
    "\n",
    "Answer the following 10 questions. Remember to *always* put your answer in the indicated position and never use the bold-faced word \"Answer\" elsewhere. Other than that restriction, the rest of your notebook is yours to play with."
   ]
  },
  {
   "cell_type": "markdown",
   "metadata": {
    "id": "z0o4abPXzbd8"
   },
   "source": [
    "-----\n",
    "## &#x1f501; Review\n",
    "\n",
    "**1. &#x1F5A9;** The work function of chromium is 4.40 eV.  What is the kinetic energy, in Joules, of electrons emitted from a chromium surface that is irradiated with ultraviolet radiation of wavelength 170 nm?\n",
    "\n",
    "**Answer:** 4.635398630287817e-19\n"
   ]
  },
  {
   "metadata": {
    "ExecuteTime": {
     "end_time": "2025-02-01T22:11:52.745166Z",
     "start_time": "2025-02-01T22:11:52.526089Z"
    }
   },
   "cell_type": "code",
   "source": [
    "import numpy as np\n",
    "from scipy import constants\n",
    "phi = 7.049577e-19 #J\n",
    "lambda_ = 170e-9 # m\n",
    "E_ph = constants.h * constants.c / lambda_ \n",
    "\n",
    "EK = E_ph - phi\n",
    "print(EK)"
   ],
   "outputs": [
    {
     "name": "stdout",
     "output_type": "stream",
     "text": [
      "4.635398630287817e-19\n"
     ]
    }
   ],
   "execution_count": 3
  },
  {
   "cell_type": "markdown",
   "metadata": {
    "id": "yjNoRuu9zbd9"
   },
   "source": [
    "-----\n",
    "**2. &#x1F5A9; What is the de Broglie wavelength of an electron moving at $1.2345 \\times 10^6 \\text{m/s}$ in nanometers?** (Relativistic effects are negligible here).\n",
    "\n",
    "**Answer:** 0.589"
   ]
  },
  {
   "metadata": {
    "ExecuteTime": {
     "end_time": "2025-02-01T23:42:18.178471Z",
     "start_time": "2025-02-01T23:42:18.170595Z"
    }
   },
   "cell_type": "code",
   "source": [
    "v = 1.2345 * 1e6 #m/s\n",
    "lambda_ = constants.h / (constants.m_e * v) * 1e9\n",
    "print(lambda_)"
   ],
   "outputs": [
    {
     "name": "stdout",
     "output_type": "stream",
     "text": [
      "0.5892179095465563\n"
     ]
    }
   ],
   "execution_count": 11
  },
  {
   "cell_type": "markdown",
   "metadata": {
    "id": "Nn8Wekx7zbd-"
   },
   "source": [
    "----\n",
    "## &#x25b6;&#xfe0f; The Particle-in-a-Box"
   ]
  },
  {
   "cell_type": "markdown",
   "metadata": {
    "id": "3k658p9vzbd-"
   },
   "source": [
    "**3. &#x1f3b2;** A system is defined by the following wave function. \n",
    "$$ \n",
    "\\psi\\left(x\\right)= \n",
    "\\begin{cases}\n",
    "N\\cos\\left(\\frac{2\\pi x}{L}\\right) &  -\\frac{L}{4} \\leq x \\leq \\frac{L}{4} \\\\\n",
    "0 & \\text{otherwise}\n",
    "\\end{cases}\n",
    "$$\n",
    "**What is the normalization constant $N$?**\n",
    " \n",
    "| | |\n",
    "| --| --| \n",
    "|**A.** $\\; N = \\frac{2}{L}$ | **D.** $\\; N= \\sqrt{\\frac{4}{L}}$|\n",
    "|**B.** $\\; N = \\frac{16}{L^2}$ | **E.** $\\; N= \\sqrt{\\frac{2\\pi}{L}}$|\n",
    "|**C.** $\\;N=\\frac{4\\pi}{L^2}$ | **F.** $\\;N=\\frac{4\\pi}{L}$  |\n",
    "| | |\n",
    "\n",
    "**Answer:** D"
   ]
  },
  {
   "metadata": {},
   "cell_type": "code",
   "outputs": [],
   "execution_count": null,
   "source": [
    "# D\n",
    "### CORRECT "
   ]
  },
  {
   "cell_type": "markdown",
   "metadata": {
    "id": "bTRNQFppzbd_"
   },
   "source": [
    "----\n",
    "**4. &#x1f3b2;** A particle of mass $m$ in a one-dimensional box of length $a$ is in its ground state.  **If you double the size of the box, the zero-point energy of the box will ___.**\n",
    "\n",
    "| | |\n",
    "|--|--|\n",
    "| A. quadruple | D. halve|\n",
    "| B. double    | E. decrease by a factor of 1/4 |\n",
    "| C. stay the same | F. none of the above|\n",
    "| | |\n",
    "\n",
    "**Answer:** E"
   ]
  },
  {
   "metadata": {},
   "cell_type": "code",
   "outputs": [],
   "execution_count": null,
   "source": [
    "# E\n",
    "### CORRECT"
   ]
  },
  {
   "cell_type": "markdown",
   "metadata": {
    "id": "OE2Gvfk-zbeA"
   },
   "source": [
    "----\n",
    "**5. &#x1f3b2;** A particle of mass $m$ in a one-dimensional box of length $a$ is in its ground state.  **If you double the mass of the particle, the zero-point energy of the box will ___.**\n",
    "\n",
    "| | |\n",
    "|--|--|\n",
    "| A. quadruple | D. halve|\n",
    "| B. double    | E. decrease by a factor of 1/4 |\n",
    "| C. stay the same | F. none of the above|\n",
    "| | |\n",
    "\n",
    "**Answer:** D"
   ]
  },
  {
   "metadata": {},
   "cell_type": "code",
   "outputs": [],
   "execution_count": null,
   "source": [
    "# D\n",
    "### CORRECT"
   ]
  },
  {
   "cell_type": "markdown",
   "metadata": {
    "id": "XehR8ayNzbeA"
   },
   "source": [
    "-----\n",
    "**6. &#x1f3b2;** For a particle in a one-dimensional box of length $a$, **what is $\\langle x^2 \\rangle$?**\n",
    "\n",
    "\n",
    "| | |\n",
    "|---|---|\n",
    "|**A.** $\\; \\frac{2}{a} - \\frac{a^2}{2n^2\\pi^2}$|**E.** $\\; \\frac{a^2}{3} - \\frac{a^2}{2n^2\\pi^2}$ |\n",
    "|**B.** $\\; \\frac{2}{a} - \\frac{a^2}{4n^2\\pi^2}$|**F.** $\\; \\frac{a^2}{4}$ |\n",
    "|**C.** $\\; \\frac{a^2}{2n^2\\pi^2} - \\frac{a^2}{3}$|**G.** $\\; \\frac{a^2}{6}$|\n",
    "|**D.** $\\; \\frac{a^2}{2n^2\\pi^2} - \\frac{2}{a}$|**H.** $\\; \\frac{a}{2}$|.|\n",
    "| | |\n",
    "\n",
    "**Answer:** E"
   ]
  },
  {
   "metadata": {},
   "cell_type": "code",
   "outputs": [],
   "execution_count": null,
   "source": [
    "# E\n",
    "#### CORRECT"
   ]
  },
  {
   "cell_type": "markdown",
   "metadata": {
    "id": "d-xA3Y8FzbeC"
   },
   "source": [
    "------\n",
    "**7. &#x1f3b2;** For a particle in a one-dimensional box of length $a$, **what is $\\langle \\hat{p}^2 \\rangle$?**\n",
    "\n",
    "| | |\n",
    "|--|--|\n",
    "| A. $\\;\\frac{n^2\\pi^2\\hbar^2}{a^2}$   | D. $\\;\\frac{n\\pi\\hbar}{2a}$  |\n",
    "| B. $\\;\\frac{n^2\\pi^2\\hbar^2}{2a^2}$  | E. $\\;\\frac{a}{2}$ |\n",
    "| C. $\\;\\frac{n\\pi\\hbar}{a}$           | F. $\\;0$ |\n",
    "\n",
    "**Answer:** A\n",
    "\n"
   ]
  },
  {
   "metadata": {},
   "cell_type": "code",
   "outputs": [],
   "execution_count": null,
   "source": [
    "# A\n",
    "### CORRECT "
   ]
  },
  {
   "cell_type": "markdown",
   "metadata": {
    "id": "wo8G5cOKzbeD"
   },
   "source": [
    "-----\n",
    "**8. &#x1f3b2;** For a particle in a one-dimensional box of length $a$, **what is $\\sigma_p$?** Recall that \n",
    "$$\n",
    "\\hat{p} = -i\\hbar \\frac{d}{dx}\n",
    "$$ \n",
    "and \n",
    "$$\n",
    "\\sigma_p= \\left( \\langle \\hat{p}^2 \\rangle - {\\langle \\hat{p} \\rangle}^2 \\right)^{1/2}\n",
    "$$\n",
    "\n",
    "| | |\n",
    "|--|--| \n",
    "|$A. \\;\\frac{n^2 h^2}{4a^2}$|D. $\\;0$|\n",
    "|$B. \\;\\frac{nh}{2a}$|$E. \\;\\sqrt{\\frac{2a}{nh}}$|\n",
    "|$C. \\;\\sqrt{\\frac{nh}{2a}}$|$F. \\;\\frac{2a}{nh}$|\n",
    "| | |\n",
    "\n",
    "**Answer:** B"
   ]
  },
  {
   "metadata": {},
   "cell_type": "code",
   "outputs": [],
   "execution_count": null,
   "source": [
    "#B\n",
    "##### CORRECT"
   ]
  },
  {
   "cell_type": "markdown",
   "metadata": {
    "id": "bkXCSye-zbeE"
   },
   "source": [
    "------\n",
    "![Cyanine Dyes](https://github.com/QC-Edu/IntroQM2022/blob/master/linkedFiles/CyanineDyes.svg?raw=true? \"Resonance structures of two different types of cyanine dye\")\n",
    "\n",
    "**9. &#x1F5A9;** Cyanine dyes are often modelled as particles-in-a-box, with length given by \n",
    "$$\n",
    "a = \\left(5.67 + 2.49 (k + 1)\\right) \\cdot 10^{-10} \\text{ m} = \\left(10.71 + 4.71 (k + 1)\\right)\\text{ a.u.}\n",
    "$$\n",
    "**What is the length of the box corresponding to $k=0$ in atomic units (Bohr)?**\n",
    "\n",
    "**Answer:** 15.42"
   ]
  },
  {
   "metadata": {
    "ExecuteTime": {
     "end_time": "2025-02-01T22:11:52.750932Z",
     "start_time": "2025-02-01T22:11:52.749266Z"
    }
   },
   "cell_type": "code",
   "source": [
    "####3 CORRECT\n",
    "a = 10.71 + 4.71\n",
    "print(a)"
   ],
   "outputs": [
    {
     "name": "stdout",
     "output_type": "stream",
     "text": [
      "15.420000000000002\n"
     ]
    }
   ],
   "execution_count": 5
  },
  {
   "cell_type": "markdown",
   "metadata": {
    "id": "JYE2PCbFzbeF"
   },
   "source": [
    "------\n",
    "**10. &#x1F5A9;** The lowest-energy absorption for a cyanine dye corresponds to the excitation from $n_\\text{HOMO}=k+3$ to $n_\\text{LUMO}=k+4$. **What is the lowest-energy absorption wavelength, in nm, for the box corresponding to $k=0$?**\n",
    "\n",
    "**Answer:** 313.636\n"
   ]
  },
  {
   "metadata": {
    "ExecuteTime": {
     "end_time": "2025-02-01T23:09:14.784769Z",
     "start_time": "2025-02-01T23:09:14.779668Z"
    }
   },
   "cell_type": "code",
   "source": [
    "######## NOT CORRECT\n",
    "a = (5.67 + 2.49)*1e-10\n",
    "\n",
    "E_homo = constants.h**2 * (0+3)**2 / (8* constants.m_e * a**2)\n",
    "E_lumo = constants.h**2 * (0+4)**2 / (8* constants.m_e * a**2)\n",
    "\n",
    "E_diff = E_lumo - E_homo \n",
    "lambda_ = constants.h*constants.c / E_diff\n",
    "print(lambda_*1e9)"
   ],
   "outputs": [
    {
     "name": "stdout",
     "output_type": "stream",
     "text": [
      "313.63602008421844\n"
     ]
    }
   ],
   "execution_count": 9
  },
  {
   "cell_type": "markdown",
   "metadata": {
    "id": "DgCyaZnwzbeG"
   },
   "source": [
    ""
   ]
  }
 ],
 "metadata": {
  "interpreter": {
   "hash": "8867fa4a874d625ac151e80518eaa96dde9c32243951e64c9d5c087633ad9a9a"
  },
  "kernelspec": {
   "display_name": "Python 3 (ipykernel)",
   "language": "python",
   "name": "python3"
  },
  "language_info": {
   "codemirror_mode": {
    "name": "ipython",
    "version": 3
   },
   "file_extension": ".py",
   "mimetype": "text/x-python",
   "name": "python",
   "nbconvert_exporter": "python",
   "pygments_lexer": "ipython3",
   "version": "3.9.7"
  },
  "colab": {
   "name": "QuestionsPinBox.ipynb",
   "provenance": []
  }
 },
 "nbformat": 4,
 "nbformat_minor": 0
}
